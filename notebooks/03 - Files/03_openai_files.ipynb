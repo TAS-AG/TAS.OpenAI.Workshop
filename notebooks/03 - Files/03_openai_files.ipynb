{
 "cells": [
  {
   "cell_type": "markdown",
   "id": "5eb01252",
   "metadata": {},
   "source": [
    "# Open AI Function Calling"
   ]
  },
  {
   "cell_type": "code",
   "execution_count": null,
   "id": "e2e95fed",
   "metadata": {},
   "outputs": [],
   "source": [
    "%pip install openai"
   ]
  },
  {
   "cell_type": "code",
   "execution_count": null,
   "id": "dcf366ab",
   "metadata": {},
   "outputs": [
    {
     "ename": "SyntaxError",
     "evalue": "invalid syntax (2434350613.py, line 19)",
     "output_type": "error",
     "traceback": [
      "  \u001b[36mCell\u001b[39m\u001b[36m \u001b[39m\u001b[32mIn[2]\u001b[39m\u001b[32m, line 19\u001b[39m\n\u001b[31m    \u001b[39m\u001b[31mfrom speisekarte-pizza-sample import MENU\u001b[39m\n                    ^\n\u001b[31mSyntaxError\u001b[39m\u001b[31m:\u001b[39m invalid syntax\n"
     ]
    }
   ],
   "source": [
    "import os.path\n",
    "import requests\n",
    "\n",
    "# Download einer Beispiel-Speisekarte, welche bereits in strukturiertem Python-Code vorliegt.\n",
    "# Könnte man später durch einen Datei- oder Webseitenimport ersetzen.\n",
    "\n",
    "MENU_DEMO_URL = \"https://raw.githubusercontent.com/TAS-AG/TAS.OpenAI.Workshop/refs/heads/main/data/speisekarte-pizza-sample.py\"\n",
    "MENU_MICELLOS_URL = \"https://github.com/TAS-AG/TAS.OpenAI.Workshop/blob/main/data/speisekarte_micellos_leipzig.pdf\"\n",
    "MENU_ATRIUM_URL = \"https://github.com/TAS-AG/TAS.OpenAI.Workshop/blob/main/data/bistro-im-atrium-wochenkarte.html\"\n",
    "\n",
    "download_urls = [MENU_DEMO_URL, MENU_MICELLOS_URL, MENU_ATRIUM_URL]\n",
    "\n",
    "for url in download_urls:\n",
    "    response = requests.get(url)\n",
    "    filename = os.path.basename(url)\n",
    "    with open(filename, 'wb') as f:\n",
    "        f.write(response.content)\n",
    "\n",
    "from speisekarte_pizza_sample import MENU"
   ]
  },
  {
   "cell_type": "code",
   "execution_count": null,
   "id": "ca38fe1e",
   "metadata": {},
   "outputs": [],
   "source": [
    "from openai import OpenAI\n",
    "from google.colab import userdata\n",
    "\n",
    "openai_api_key = userdata.get('OPENAI_API_KEY')\n",
    "openai_client = OpenAI(api_key = openai_api_key)"
   ]
  },
  {
   "cell_type": "code",
   "execution_count": null,
   "id": "9715ffad",
   "metadata": {},
   "outputs": [],
   "source": [
    "from typing import List, Dict\n",
    "\n",
    "\n",
    "# Bestellung (als globale Liste)\n",
    "bestellung: List[Dict] = []\n",
    "\n",
    "\n",
    "def add_item_to_order(item_id: str) -> str:\n",
    "    \"\"\"\n",
    "    Python-Funktion, welche ein Item zur Bestellung hinzufügt. Dabei wird vorab geprüft, ob das Item in der\n",
    "    Speisekarte vorhanden ist. Falls nicht, wird eine Fehlermeldung auf der Konsole ausgegeben.\n",
    "\n",
    "    Args:\n",
    "        item_id (str): Eindeutige ID des Items, welches zur Bestellung hinzugefügt werden soll.\n",
    "\n",
    "    Returns:\n",
    "        str: Text, der angibt, ob das Item erfolgreich zur Bestellung hinzugefügt wurde oder ob ein Fehler aufgetreten ist.\n",
    "    \"\"\"\n",
    "    item = next((entry for entry in MENU if entry[\"id\"] == item_id), None)\n",
    "    if item:\n",
    "        bestellung.append(item)\n",
    "        return f\"{item['name']} wurde zur Bestellung hinzugefügt.\"\n",
    "    return f\"Item mit ID {item_id} nicht gefunden.\""
   ]
  },
  {
   "cell_type": "markdown",
   "id": "e34e7800",
   "metadata": {},
   "source": [
    "Im folgenden Abschnitt werden alle verfügbaren Tools aufgelistet, die in der OpenAI API verwendet werden können. Diese Tools sind in der Regel Funktionen, die aufgerufen werden können, um bestimmte Aufgaben zu erledigen, wie z.B. das Abrufen von Informationen oder das Ausführen von Berechnungen."
   ]
  },
  {
   "cell_type": "code",
   "execution_count": null,
   "id": "1c6f1df2",
   "metadata": {},
   "outputs": [],
   "source": [
    "available_tools = [\n",
    "    {\n",
    "        \"type\": \"function\",\n",
    "        \"name\": \"add_item_to_order\",\n",
    "        \"description\": \"Fügt ein Item der Bestellung hinzu.\",\n",
    "        \"parameters\": {\n",
    "            \"type\": \"object\",\n",
    "            \"properties\": {\n",
    "                \"item_id\": {\n",
    "                    \"type\": \"string\",\n",
    "                    \"description\": \"Die ID des hinzuzufügenden Items.\",\n",
    "                }\n",
    "            },\n",
    "            \"required\": [\"item_id\"],\n",
    "        },\n",
    "    },\n",
    "]"
   ]
  },
  {
   "cell_type": "code",
   "execution_count": null,
   "id": "be746141",
   "metadata": {},
   "outputs": [],
   "source": [
    "import json\n",
    "\n",
    "def send_prompt(user_input: str) -> Dict:\n",
    "\t\"\"\"\n",
    "\tSendet eine Anfrage an das OpenAI-Modell mit der Benutzeranfrage und den verfügbaren Tools.\n",
    "\n",
    "\tArgs:\n",
    "\t\tuser_input (str): Die Eingabe des Benutzers, die verarbeitet werden soll.\n",
    "\n",
    "\tReturns:\n",
    "\t\tDict: Die Antwort des Modells, die entweder eine Textantwort oder einen Funktionsaufruf enthält.\n",
    "\t\"\"\"\n",
    "\tresponse = openai_client.responses.create(\n",
    "\t\tmodel = \"gpt-4o\",\n",
    "\t\tinput = [\n",
    "\t\t\t{\n",
    "\t\t\t\t\"role\": \"developer\",\n",
    "\t\t\t\t\"content\": \"Du bist ein digitaler Kellner. Nimm Bestellungen auf und beantworte Fragen zum Menü.\"\n",
    "\t\t\t},\n",
    "\t\t\t{\n",
    "\t\t\t\t\"role\": \"developer\", # dieses mal nicht als Prompt injection, sondern als Kontext\n",
    "\t\t\t\t\"content\": f\"Speisekarte:\\n{json.dumps(MENU, ensure_ascii=False)}\",\n",
    "\t\t\t},\n",
    "\t\t\t{\n",
    "\t\t\t\t\"role\": \"user\",\n",
    "\t\t\t\t\"content\": user_input,\n",
    "\t\t\t},\n",
    "\t\t],\n",
    "        tools = available_tools,\n",
    "        tool_choice = \"auto\",\n",
    "\t)\n",
    "\n",
    "\tfor tool_call in response.output:\n",
    "\t\tif tool_call.type != \"function_call\":\n",
    "\t\t\tprint(f\"Antwort: {response.output_text}\")\n",
    "\t\t\tcontinue\n",
    "\n",
    "\t\tname = tool_call.name\n",
    "\t\targs = json.loads(tool_call.arguments)\n",
    "\n",
    "\t\tif name == \"add_item_to_order\":\n",
    "\t\t\tresult = add_item_to_order(args[\"item_id\"])\n",
    "\t\tprint(f\"Function Call: {name}({args}) ➜ {result}\")\n",
    "\n",
    "\t\t# Anzeige der aktuellen Bestellung\n",
    "\t\tprint(\"📦 Aktuelle Bestellung:\")\n",
    "\t\tfor item in bestellung:\n",
    "\t\t\tprint(f\"- {item['name']} ({item['preis']} €)\")\n",
    "\t\tprint('-' * 40+'\\n')"
   ]
  },
  {
   "cell_type": "code",
   "execution_count": null,
   "id": "c410b795",
   "metadata": {},
   "outputs": [],
   "source": [
    "send_prompt(\"Wie geht es dir? \")\n",
    "send_prompt(\"Ich möchte gerne eine Pizza Diavola und eine Cola bestellen.\")\n",
    "send_prompt(\"Noch eine Cola bitte\")\n",
    "send_prompt(\"Bitte entferne die Cola wieder.\")"
   ]
  },
  {
   "cell_type": "markdown",
   "id": "b46a0917",
   "metadata": {},
   "source": [
    "**Aufgabe**: Erweitere die Funktionalität um eine Funktion \"remove_item_from_order\", welche die id eines bestelltem Items übergeben bekommt und dieses aus der Liste löscht."
   ]
  }
 ],
 "metadata": {
  "kernelspec": {
   "display_name": ".venv",
   "language": "python",
   "name": "python3"
  },
  "language_info": {
   "codemirror_mode": {
    "name": "ipython",
    "version": 3
   },
   "file_extension": ".py",
   "mimetype": "text/x-python",
   "name": "python",
   "nbconvert_exporter": "python",
   "pygments_lexer": "ipython3",
   "version": "3.12.7"
  }
 },
 "nbformat": 4,
 "nbformat_minor": 5
}
