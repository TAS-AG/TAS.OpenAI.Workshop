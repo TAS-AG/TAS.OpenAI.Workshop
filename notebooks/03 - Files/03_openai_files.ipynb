{
 "cells": [
  {
   "cell_type": "markdown",
   "id": "5eb01252",
   "metadata": {},
   "source": [
    "# Open AI Function Calling"
   ]
  },
  {
   "cell_type": "code",
   "execution_count": null,
   "id": "e2e95fed",
   "metadata": {},
   "outputs": [],
   "source": [
    "%pip install openai"
   ]
  },
  {
   "cell_type": "code",
   "execution_count": null,
   "id": "dcf366ab",
   "metadata": {},
   "outputs": [],
   "source": [
    "import os.path\n",
    "import requests\n",
    "\n",
    "# Download einer Beispiel-Speisekarte, welche bereits in strukturiertem Python-Code vorliegt.\n",
    "# Könnte man später durch einen Datei- oder Webseitenimport ersetzen.\n",
    "\n",
    "MENU_DEMO_URL = \"https://raw.githubusercontent.com/TAS-AG/TAS.OpenAI.Workshop/refs/heads/main/data/speisekarte_pizza_sample.py\"\n",
    "MENU_MICELLOS_URL = \"https://raw.githubusercontent.com/TAS-AG/TAS.OpenAI.Workshop/refs/heads/main/data/speisekarte_micellos_leipzig.pdf\"\n",
    "MENU_ATRIUM_URL = \"https://raw.githubusercontent.com/TAS-AG/TAS.OpenAI.Workshop/refs/heads/main/data/wochenkarte_bistro_im_atrium.pdf\"\n",
    "\n",
    "download_urls = [MENU_DEMO_URL, MENU_MICELLOS_URL, MENU_ATRIUM_URL]\n",
    "\n",
    "for url in download_urls:\n",
    "    response = requests.get(url)\n",
    "    filename = os.path.basename(url)\n",
    "    with open(filename, 'wb') as f:\n",
    "        f.write(response.content)\n",
    "\n",
    "from speisekarte_pizza_sample import MENU"
   ]
  },
  {
   "cell_type": "code",
   "execution_count": null,
   "id": "da8ed46f",
   "metadata": {},
   "outputs": [],
   "source": [
    "import base64\n",
    "\n",
    "with open(\"speisekarte_micellos_leipzig.pdf\", \"rb\") as f:\n",
    "    data = f.read()\n",
    "\n",
    "speisekarte_micellos_base64_string = base64.b64encode(data).decode(\"utf-8\")\n"
   ]
  },
  {
   "cell_type": "code",
   "execution_count": null,
   "id": "ca38fe1e",
   "metadata": {},
   "outputs": [],
   "source": [
    "from openai import OpenAI\n",
    "from google.colab import userdata\n",
    "\n",
    "openai_api_key = userdata.get('OPENAI_API_KEY')\n",
    "openai_client = OpenAI(api_key = openai_api_key)"
   ]
  },
  {
   "cell_type": "markdown",
   "id": "8bdb0d0e",
   "metadata": {},
   "source": [
    "Multimodale Modelle sind KI-Modelle, die Informationen aus verschiedenen Modalitäten – etwa Text, Bilder, Audio oder strukturierte Daten – gleichzeitig verarbeiten und kombinieren können. Das unterscheidet sie von klassischen Modellen, die nur mit einer einzigen Eingabemodalität (z. B. nur Text) umgehen können.\n",
    "\n",
    "GPT 4o beispielsweise kann multimodalen Input wie Text, PDFs oder Bilder verarbeiten. Im folgenden Beispiel verwenden wir gpt-4o zur Verarbeitung eines Nutzer-Inputs und einer PDF-Datei (z. B. einer Speisekarte).\n",
    "\n",
    "Aufgabe: Neben Speisen für die Pizzeria soll der Kellner auch Speisen für das Restaurant \"Bistro im Atrium\" in Leipzig aufnehmen können. Erweitere den API Aufruf, sodass beide Speisekarten übergeben werden. Füge im Systemprompt den aktuellen Tag hinzu und mache Anpassungen, dass nur die für den Tag verfügbaren Speisen des Atrium-Bistros berücksichtigt werden. Erweitere das Output-Schema so, dass auch das entsprechende Restaurant (\"Atrium im Bisto\" oder \"Micellos\") in der Ausgabe enthalten sind. Finde Bestellungen für die Speisen aus beiden Restaurants empfohlen werden. Passe den Prompt wo nötig an."
   ]
  },
  {
   "cell_type": "code",
   "execution_count": null,
   "id": "890e5c39",
   "metadata": {},
   "outputs": [],
   "source": [
    "import json\n",
    "\n",
    "user_input = \"Was gibt es diese Woche im Atrium-Bistro?.\"\n",
    "\n",
    "expected_response_schema = {\n",
    "    \"type\": \"object\",\n",
    "    \"properties\": {\n",
    "        \"items\": {\n",
    "            \"type\": \"array\",  #Erwarteter Rückgabetyp ist ein Array von Objekten\n",
    "            \"items\": {\n",
    "                \"type\": \"object\",\n",
    "                \"properties\": {\n",
    "                    \"id\": {\"type\": \"string\"},\n",
    "                    \"name\": {\"type\": \"string\"},\n",
    "                    \"description\": {\"type\": \"string\"},\n",
    "                    \"category\": {\"type\": \"string\"},\n",
    "                    \"price\": {\"type\": \"number\"},\n",
    "                },\n",
    "                \"required\": [\"id\", \"name\", \"description\", \"category\", \"price\"],\n",
    "                \"additionalProperties\": False,\n",
    "            },\n",
    "        }\n",
    "    },\n",
    "    \"required\": [\"items\"],\n",
    "    \"additionalProperties\": False,\n",
    "}\n",
    "\n",
    "response = openai_client.responses.create(\n",
    "    model = \"gpt-4o\",\n",
    "    input = [\n",
    "        {\n",
    "            \"role\": \"developer\",\n",
    "            \"content\": [\n",
    "                {\n",
    "\t\t\t\t\t\"type\": \"input_text\",\n",
    "\t\t\t\t\t\"text\": \"Du bist ein digitaler Kellner. Wähle den passenden Eintrag aus der Speisekarte aus.\"\n",
    "\t\t\t\t}\n",
    "            ]\n",
    "        },\n",
    "        {\n",
    "            \"role\": \"user\",\n",
    "            \"content\":  [\n",
    "                {\n",
    "                    \"type\": \"input_file\",\n",
    "                    \"filename\": \"speisekarte_micellos_leipzig.pdf\",\n",
    "                    \"file_data\": f\"data:application/pdf;base64,{speisekarte_micellos_base64_string}\"\n",
    "                },\n",
    "                {\n",
    "                    \"type\": \"input_text\",\n",
    "                    \"text\": f\"{user_input}\",\n",
    "                }\n",
    "\t\t\t]\n",
    "\t\t}\n",
    "    ],\n",
    "    # Gewünschtes Ausgabeformat wird API-Aufruf übergeben\n",
    "    text={\n",
    "        \"format\": {\n",
    "            \"type\": \"json_schema\",\n",
    "            \"name\": \"menu_item\",\n",
    "            \"schema\": expected_response_schema,\n",
    "            \"strict\": True\n",
    "        }\n",
    "    }\n",
    ")\n",
    "recommendations = json.loads(response.output_text)[\"items\"]\n",
    "\n",
    "for item in recommendations:\n",
    "    print(item)\n"
   ]
  }
 ],
 "metadata": {
  "kernelspec": {
   "display_name": ".venv",
   "language": "python",
   "name": "python3"
  },
  "language_info": {
   "codemirror_mode": {
    "name": "ipython",
    "version": 3
   },
   "file_extension": ".py",
   "mimetype": "text/x-python",
   "name": "python",
   "nbconvert_exporter": "python",
   "pygments_lexer": "ipython3",
   "version": "3.12.7"
  }
 },
 "nbformat": 4,
 "nbformat_minor": 5
}
