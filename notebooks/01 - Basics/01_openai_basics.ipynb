{
 "cells": [
  {
   "cell_type": "markdown",
   "id": "a743f548",
   "metadata": {},
   "source": [
    "# Open AI Basics"
   ]
  },
  {
   "cell_type": "markdown",
   "id": "53dda4dc",
   "metadata": {},
   "source": [
    "## Lerninhalte\n",
    "\n",
    "- Nutzung eines OpenAI API-Keys\n",
    "- Kennen der OpenAI API\n",
    "- Kennen der OpenAI Python-Bibliothek\n",
    "- Senden eines dynamischen Prompts an die OpenAI API und Ausgabe der Antwort"
   ]
  },
  {
   "cell_type": "markdown",
   "id": "dece82e6",
   "metadata": {},
   "source": [
    "## Anwendungsfall\n",
    "\n",
    "META: Kategorisierung und Auswahl der richtigen Kategorie.\n",
    "Fall: Ein Kunde möchte eine Bestellung aufgeben, aber nicht direkt eine Pizza bestellen, sondern eine Zutat nennen. Die Aufgabe besteht darin, die passende Kategorie zu finden."
   ]
  },
  {
   "cell_type": "markdown",
   "id": "986c495b",
   "metadata": {},
   "source": [
    "## Setup\n",
    "\n",
    "Zunächst müssen wir die OpenAI Python-Bibliothek installieren. Dazu installieren wir gleich ein paar mehr Bibliotheken,\n",
    "welche uns später das Programmieren leichter machen. Dies kann über den folgenden Befehl erfolgen:"
   ]
  },
  {
   "cell_type": "code",
   "execution_count": 10,
   "id": "2e9ab6bd",
   "metadata": {},
   "outputs": [
    {
     "name": "stdout",
     "output_type": "stream",
     "text": [
      "Note: you may need to restart the kernel to use updated packages.\n"
     ]
    },
    {
     "name": "stderr",
     "output_type": "stream",
     "text": [
      "ERROR: Could not find a version that satisfies the requirement json (from versions: none)\n",
      "ERROR: No matching distribution found for json\n"
     ]
    }
   ],
   "source": [
    "#Wird auf der Konsole ausgeführt\n",
    "%pip install json openai requests"
   ]
  },
  {
   "cell_type": "code",
   "execution_count": null,
   "id": "eb6bfbda",
   "metadata": {},
   "outputs": [],
   "source": [
    "import os.path\n",
    "import requests\n",
    "\n",
    "MENU_URL = \"\"\n",
    "\n",
    "response = requests.get(MENU_URL)\n",
    "with open(os.path.basename(MENU_URL), 'w', encoding='utf-8') as f:\n",
    "    f.write(response.text)\n",
    "\n",
    "from menu import MENU"
   ]
  },
  {
   "cell_type": "markdown",
   "id": "a3977939",
   "metadata": {},
   "source": []
  },
  {
   "cell_type": "code",
   "execution_count": null,
   "id": "eac0eee1",
   "metadata": {},
   "outputs": [],
   "source": [
    "from openai import OpenAI\n",
    "\n",
    "from google.colab import userdata\n",
    "openai_api_key = userdata.get('OPENAI_API_KEY')    # Alternative 1: Google Colab\n",
    "#openai_api_key = os.getenv('OPENAI_API_KEY')      # Alternative 2: Lokaler Systemumgebungsvariable, ggf. mit .env-Datei\n",
    "#openai_api_key = \"your_openai_api_key_here\"       # Alternative 3: Direkt im Code (nicht empfohlen)\n",
    "\n",
    "openai_client = OpenAI(api_key = openai_api_key)"
   ]
  },
  {
   "cell_type": "code",
   "execution_count": null,
   "id": "436817f4",
   "metadata": {},
   "outputs": [],
   "source": []
  },
  {
   "cell_type": "code",
   "execution_count": 18,
   "id": "83f24ea6",
   "metadata": {},
   "outputs": [
    {
     "name": "stdout",
     "output_type": "stream",
     "text": [
      "Hier sind die passenden Optionen für dich:\n",
      "\n",
      "1. **Pizza Salami**  \n",
      "   *Beschreibung:* Tomatensauce, Mozzarella, scharfe Salami  \n",
      "   *Preis:* 9.5 €\n",
      "\n",
      "2. **Pizza Diavola**  \n",
      "   *Beschreibung:* Scharfe Salami, Chili, Paprika  \n",
      "   *Preis:* 10.0 €\n",
      "\n",
      "3. **Pizza Funghi**  \n",
      "   *Beschreibung:* Tomatensauce, Mozzarella, frische Champignons  \n",
      "   *Preis:* 9.0 €\n",
      "\n",
      "4. **Pizza Capricciosa**  \n",
      "   *Beschreibung:* Schinken, Pilze, Artischocken, Oliven  \n",
      "   *Preis:* 10.5 €\n",
      "\n",
      "5. **Pizza Champignon**  \n",
      "   *Beschreibung:* Extra Pilze, Mozzarella  \n",
      "   *Preis:* 9.0 €\n",
      "\n",
      "6. **Pizza Tartufo**  \n",
      "   *Beschreibung:* Trüffelcreme, Pilze  \n",
      "   *Preis:* 12.0 €\n",
      "\n",
      "Möchtest du eine dieser Pizzen bestellen?\n"
     ]
    }
   ],
   "source": [
    "import json\n",
    "\n",
    "user_input = \"Ich möchte gerne etwas mit scharfer Salami oder Pilzen.\"\n",
    "\n",
    "prompt = f\"Speisekarte:\\n{json.dumps(MENU, ensure_ascii=False)}\\n\\nBestellung: {user_input}\""
   ]
  },
  {
   "cell_type": "code",
   "execution_count": 21,
   "id": "7a1b533b",
   "metadata": {},
   "outputs": [
    {
     "name": "stdout",
     "output_type": "stream",
     "text": [
      "Hier sind zwei passende Optionen für Sie:\n",
      "\n",
      "1. **Pizza Salami**\n",
      "   - **Beschreibung**: Tomatensauce, Mozzarella, scharfe Salami\n",
      "   - **Preis**: 9.5 €\n",
      "\n",
      "2. **Pizza Funghi**\n",
      "   - **Beschreibung**: Tomatensauce, Mozzarella, frische Champignons\n",
      "   - **Preis**: 9.0 €\n",
      "\n",
      "Möchten Sie eine der beiden Pizzen bestellen?\n"
     ]
    }
   ],
   "source": [
    "# Unstrukturierte Ausgabe\n",
    "\n",
    "response = openai_client.responses.create(\n",
    "    model = \"gpt-4o\",\n",
    "    input = [\n",
    "        {\n",
    "            \"role\": \"developer\",\n",
    "            \"content\": \"Du bist ein digitaler Kellner. Wähle den passenden Eintrag aus der Speisekarte aus.\"\n",
    "        },\n",
    "        {\n",
    "            \"role\": \"user\",\n",
    "            \"content\":  prompt\n",
    "\t\t}\n",
    "    ],\n",
    ")\n",
    "\n",
    "print(response.output_text)"
   ]
  },
  {
   "cell_type": "code",
   "execution_count": 22,
   "id": "0be54611",
   "metadata": {},
   "outputs": [
    {
     "name": "stdout",
     "output_type": "stream",
     "text": [
      "{'id': 'pizza_salami', 'name': 'Pizza Salami', 'description': 'Tomatensauce, Mozzarella, scharfe Salami', 'category': 'Pizza', 'price': 9.5}\n",
      "{'id': 'pizza_diavola', 'name': 'Pizza Diavola', 'description': 'Scharfe Salami, Chili, Paprika', 'category': 'Pizza', 'price': 10.0}\n",
      "{'id': 'pizza_funghi', 'name': 'Pizza Funghi', 'description': 'Tomatensauce, Mozzarella, frische Champignons', 'category': 'Pizza', 'price': 9.0}\n",
      "{'id': 'pizza_capricciosa', 'name': 'Pizza Capricciosa', 'description': 'Schinken, Pilze, Artischocken, Oliven', 'category': 'Pizza', 'price': 10.5}\n",
      "{'id': 'pizza_champignon', 'name': 'Pizza Champignon', 'description': 'Extra Pilze, Mozzarella', 'category': 'Pizza', 'price': 9.0}\n"
     ]
    }
   ],
   "source": [
    "# Strukturierte Ausgabe\n",
    "\n",
    "expected_response_schema = {\n",
    "    \"type\": \"object\",\n",
    "    \"properties\": {\n",
    "        \"items\": {\n",
    "            \"type\": \"array\",  #Erwarteter Rückgabetyp ist ein Array von Objekten\n",
    "            \"items\": {\n",
    "                \"type\": \"object\",\n",
    "                \"properties\": {\n",
    "                    \"id\": {\"type\": \"string\"},\n",
    "                    \"name\": {\"type\": \"string\"},\n",
    "                    \"description\": {\"type\": \"string\"},\n",
    "                    \"category\": {\"type\": \"string\"},\n",
    "                    \"price\": {\"type\": \"number\"},\n",
    "                },\n",
    "                \"required\": [\"id\", \"name\", \"description\", \"category\", \"price\"],\n",
    "                \"additionalProperties\": False,\n",
    "            },\n",
    "        }\n",
    "    },\n",
    "    \"required\": [\"items\"],\n",
    "    \"additionalProperties\": False,\n",
    "}\n",
    "\n",
    "response = openai_client.responses.create(\n",
    "    model = \"gpt-4o\",\n",
    "    input = [\n",
    "        {\n",
    "            \"role\": \"developer\",\n",
    "            \"content\": \"Du bist ein digitaler Kellner. Wähle den passenden Eintrag aus der Speisekarte aus.\"\n",
    "        },\n",
    "        {\n",
    "            \"role\": \"user\",\n",
    "            \"content\":  prompt\n",
    "\t\t}\n",
    "    ],\n",
    "    # Gewünschtes Ausgabeformat wird API-Aufruf übergeben\n",
    "    text={\n",
    "        \"format\": {\n",
    "            \"type\": \"json_schema\",\n",
    "            \"name\": \"menu_item\",\n",
    "            \"schema\": expected_response_schema,\n",
    "            \"strict\": True\n",
    "        }\n",
    "    }\n",
    ")\n",
    "recommendations = json.loads(response.output_text)[\"items\"]\n",
    "\n",
    "for item in recommendations:\n",
    "    print(item)\n"
   ]
  }
 ],
 "metadata": {
  "kernelspec": {
   "display_name": ".venv",
   "language": "python",
   "name": "python3"
  },
  "language_info": {
   "codemirror_mode": {
    "name": "ipython",
    "version": 3
   },
   "file_extension": ".py",
   "mimetype": "text/x-python",
   "name": "python",
   "nbconvert_exporter": "python",
   "pygments_lexer": "ipython3",
   "version": "3.12.7"
  }
 },
 "nbformat": 4,
 "nbformat_minor": 5
}
