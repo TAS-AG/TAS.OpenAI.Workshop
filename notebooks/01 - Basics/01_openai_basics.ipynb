{
 "cells": [
  {
   "cell_type": "markdown",
   "id": "a743f548",
   "metadata": {},
   "source": [
    "# Open AI Basics"
   ]
  },
  {
   "cell_type": "markdown",
   "id": "53dda4dc",
   "metadata": {},
   "source": [
    "## Lerninhalte\n",
    "\n",
    "- Nutzung eines OpenAI API-Keys\n",
    "- Kennen der OpenAI API\n",
    "- Kennen der OpenAI Python-Bibliothek\n",
    "- Senden eines dynamischen Prompts an die OpenAI API und Ausgabe der Antwort"
   ]
  },
  {
   "cell_type": "markdown",
   "id": "dece82e6",
   "metadata": {},
   "source": [
    "## Anwendungsfall\n",
    "\n",
    "- META: Kategorisierung und Auswahl von Elementen der richtigen Kategorie.\n",
    "- Fall: Ein Kunde möchte eine Bestellung aufgeben, aber nicht direkt eine Pizza bestellen, sondern eine Zutat nennen. Die Aufgabe besteht darin, die passende Kategorie zu finden."
   ]
  },
  {
   "cell_type": "markdown",
   "id": "986c495b",
   "metadata": {},
   "source": [
    "## Setup\n",
    "\n",
    "Zunächst müssen wir die OpenAI Python-Bibliothek installieren. Dazu installieren wir gleich ein paar mehr Bibliotheken,\n",
    "welche uns später das Programmieren leichter machen. Dies kann über den folgenden Befehl erfolgen:"
   ]
  },
  {
   "cell_type": "code",
   "execution_count": null,
   "id": "2e9ab6bd",
   "metadata": {},
   "outputs": [],
   "source": [
    "#Wird auf der Konsole ausgeführt\n",
    "%pip install json openai requests"
   ]
  },
  {
   "cell_type": "code",
   "execution_count": null,
   "id": "eb6bfbda",
   "metadata": {},
   "outputs": [],
   "source": [
    "import os.path\n",
    "import requests\n",
    "\n",
    "# Download einer Beispiel-Speisekarte, welche bereits in strukturiertem Python-Code vorliegt.\n",
    "# Könnte man später durch einen Datei- oder Webseitenimport ersetzen.\n",
    "\n",
    "MENU_DEMO_URL = \"https://raw.githubusercontent.com/TAS-AG/TAS.OpenAI.Workshop/refs/heads/main/data/speisekarte_pizza_sample.py\"\n",
    "\n",
    "response = requests.get(MENU_DEMO_URL)\n",
    "with open(os.path.basename(MENU_DEMO_URL), 'w', encoding='utf-8') as f:\n",
    "    f.write(response.text)\n",
    "\n",
    "from speisekarte_pizza_sample import MENU"
   ]
  },
  {
   "cell_type": "code",
   "execution_count": null,
   "id": "eac0eee1",
   "metadata": {},
   "outputs": [],
   "source": [
    "from openai import OpenAI\n",
    "\n",
    "# Damit wir die OpenAI API nutzen können, benötigen wir einen API-Key.\n",
    "# Diesen kann man sich selbst in seinem OpenAI-Konto generieren.\n",
    "\n",
    "from google.colab import userdata\n",
    "openai_api_key = userdata.get('OPENAI_API_KEY')    # Alternative 1: Google Colab\n",
    "#openai_api_key = os.getenv('OPENAI_API_KEY')      # Alternative 2: Lokaler Systemumgebungsvariable, ggf. mit .env-Datei\n",
    "#openai_api_key = \"your_openai_api_key_here\"       # Alte\n",
    "# rnative 3: Direkt im Code (nicht empfohlen)\n",
    "\n",
    "openai_client = OpenAI(api_key = openai_api_key)"
   ]
  },
  {
   "cell_type": "markdown",
   "id": "436817f4",
   "metadata": {},
   "source": [
    "# OpenAI-API verwenden"
   ]
  },
  {
   "cell_type": "code",
   "execution_count": null,
   "id": "83f24ea6",
   "metadata": {},
   "outputs": [],
   "source": [
    "import json\n",
    "\n",
    "user_input = \"Ich möchte gerne etwas mit scharfer Salami oder Pilzen.\"\n",
    "\n",
    "# Hier führen wir den Kontext (Inhalt der Speisekarte) und die Benutzeranfrage zusammen, um einen Prompt zu erstellen.\n",
    "prompt = f\"Speisekarte:\\n{json.dumps(MENU, ensure_ascii=False)}\\n\\nBestellung: {user_input}\""
   ]
  },
  {
   "cell_type": "markdown",
   "id": "008ea8f9",
   "metadata": {},
   "source": [
    "### Unstrukturierte Ausgabe\n",
    "\n",
    "**Aufgabe**:\n",
    "Führe folgenden Code mehrfach aus und beobachte die Ausgabe. Was fällt dir auf?"
   ]
  },
  {
   "cell_type": "code",
   "execution_count": null,
   "id": "7a1b533b",
   "metadata": {},
   "outputs": [],
   "source": [
    "# Unstrukturierte Ausgabe\n",
    "\n",
    "response = openai_client.responses.create(\n",
    "    model = \"gpt-4o\",\n",
    "    input = [\n",
    "        {\n",
    "            \"role\": \"developer\",\n",
    "            \"content\": \"Du bist ein digitaler Kellner. Wähle alle passenden Einträge aus der Speisekarte aus.\"\n",
    "        },\n",
    "        {\n",
    "            \"role\": \"user\",\n",
    "            \"content\":  prompt\n",
    "\t\t}\n",
    "    ],\n",
    ")\n",
    "\n",
    "print(response.output_text)"
   ]
  },
  {
   "cell_type": "markdown",
   "id": "951c0ceb",
   "metadata": {},
   "source": [
    "### Strukturierte Ausgabe"
   ]
  },
  {
   "cell_type": "code",
   "execution_count": null,
   "id": "0be54611",
   "metadata": {},
   "outputs": [],
   "source": [
    "# Strukturierte Ausgabe\n",
    "\n",
    "expected_response_schema = {\n",
    "    \"type\": \"object\",\n",
    "    \"properties\": {\n",
    "        \"items\": {\n",
    "            \"type\": \"array\",  #Erwarteter Rückgabetyp ist ein Array von Objekten\n",
    "            \"items\": {\n",
    "                \"type\": \"object\",\n",
    "                \"properties\": {\n",
    "                    \"id\": {\"type\": \"string\"},\n",
    "                    \"name\": {\"type\": \"string\"},\n",
    "                    \"description\": {\"type\": \"string\"},\n",
    "                    \"category\": {\"type\": \"string\"},\n",
    "                    \"price\": {\"type\": \"number\"},\n",
    "                },\n",
    "                \"required\": [\"id\", \"name\", \"description\", \"category\", \"price\"],\n",
    "                \"additionalProperties\": False,\n",
    "            },\n",
    "        }\n",
    "    },\n",
    "    \"required\": [\"items\"],\n",
    "    \"additionalProperties\": False,\n",
    "}\n",
    "\n",
    "response = openai_client.responses.create(\n",
    "    model = \"gpt-4o\",\n",
    "    input = [\n",
    "        {\n",
    "            \"role\": \"developer\",\n",
    "            \"content\": \"Du bist ein digitaler Kellner. Wähle den passenden Eintrag aus der Speisekarte aus.\"\n",
    "        },\n",
    "        {\n",
    "            \"role\": \"user\",\n",
    "            \"content\":  prompt\n",
    "\t\t}\n",
    "    ],\n",
    "    # Gewünschtes Ausgabeformat wird API-Aufruf übergeben\n",
    "    text={\n",
    "        \"format\": {\n",
    "            \"type\": \"json_schema\",\n",
    "            \"name\": \"menu_item\",\n",
    "            \"schema\": expected_response_schema,\n",
    "            \"strict\": True\n",
    "        }\n",
    "    }\n",
    ")\n",
    "recommendations = json.loads(response.output_text)[\"items\"]\n",
    "\n",
    "for item in recommendations:\n",
    "    print(item)\n"
   ]
  }
 ],
 "metadata": {
  "kernelspec": {
   "display_name": ".venv",
   "language": "python",
   "name": "python3"
  },
  "language_info": {
   "codemirror_mode": {
    "name": "ipython",
    "version": 3
   },
   "file_extension": ".py",
   "mimetype": "text/x-python",
   "name": "python",
   "nbconvert_exporter": "python",
   "pygments_lexer": "ipython3",
   "version": "3.12.7"
  }
 },
 "nbformat": 4,
 "nbformat_minor": 5
}
